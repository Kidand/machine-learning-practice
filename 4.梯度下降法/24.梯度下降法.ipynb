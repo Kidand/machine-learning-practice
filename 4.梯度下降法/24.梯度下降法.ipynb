{
 "cells": [
  {
   "cell_type": "markdown",
   "metadata": {},
   "source": [
    "+ 不是一个机器学习算法\n",
    "+ 是一种基于搜索的最优化方法\n",
    "+ 作用：最小化一个损失函数\n",
    "+ 梯度上升法：最大化一个效用函数"
   ]
  },
  {
   "cell_type": "markdown",
   "metadata": {},
   "source": [
    "+ η称为学习率（learning rate）\n",
    "+ η的取值影响获得最优解的速度\n",
    "+ η取值不合适，甚至得不到最优解\n",
    "+ η是梯度下降法的一个超参数"
   ]
  }
 ],
 "metadata": {
  "kernelspec": {
   "display_name": "Python 3",
   "language": "python",
   "name": "python3"
  },
  "language_info": {
   "codemirror_mode": {
    "name": "ipython",
    "version": 3
   },
   "file_extension": ".py",
   "mimetype": "text/x-python",
   "name": "python",
   "nbconvert_exporter": "python",
   "pygments_lexer": "ipython3",
   "version": "3.7.4"
  }
 },
 "nbformat": 4,
 "nbformat_minor": 2
}
