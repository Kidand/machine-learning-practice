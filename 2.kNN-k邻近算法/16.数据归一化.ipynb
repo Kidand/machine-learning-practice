{
 "cells": [
  {
   "cell_type": "code",
   "execution_count": 1,
   "metadata": {},
   "outputs": [],
   "source": [
    "import numpy as np\n",
    "import matplotlib.pyplot as plt"
   ]
  },
  {
   "cell_type": "markdown",
   "metadata": {},
   "source": [
    "### 最值归一化 Normalization"
   ]
  },
  {
   "cell_type": "code",
   "execution_count": 2,
   "metadata": {},
   "outputs": [
    {
     "data": {
      "text/plain": [
       "array([45, 26, 69, 66, 97,  4, 47, 15, 29,  8,  3, 25, 35, 14, 92, 69, 14,\n",
       "       36, 52, 60,  0, 89, 53, 96, 68, 51, 53,  0, 62, 17, 52, 11, 18, 94,\n",
       "       70, 29, 69, 48, 46, 87, 92, 42, 33, 26, 80, 10, 43,  1, 57, 95, 50,\n",
       "        0, 90, 81, 82, 66, 60, 24,  8, 86, 27, 90, 20, 78, 85, 33, 23, 39,\n",
       "       68, 47,  2, 64, 73, 99, 74, 38, 83, 95, 51, 80, 49, 75, 74, 11, 39,\n",
       "       55, 54, 50, 30, 69, 65,  1, 14, 42, 82, 91, 70, 86, 54, 17])"
      ]
     },
     "execution_count": 2,
     "metadata": {},
     "output_type": "execute_result"
    }
   ],
   "source": [
    "x = np.random.randint(0, 100, size=100)\n",
    "x"
   ]
  },
  {
   "cell_type": "code",
   "execution_count": 3,
   "metadata": {},
   "outputs": [
    {
     "data": {
      "text/plain": [
       "array([0.45454545, 0.26262626, 0.6969697 , 0.66666667, 0.97979798,\n",
       "       0.04040404, 0.47474747, 0.15151515, 0.29292929, 0.08080808,\n",
       "       0.03030303, 0.25252525, 0.35353535, 0.14141414, 0.92929293,\n",
       "       0.6969697 , 0.14141414, 0.36363636, 0.52525253, 0.60606061,\n",
       "       0.        , 0.8989899 , 0.53535354, 0.96969697, 0.68686869,\n",
       "       0.51515152, 0.53535354, 0.        , 0.62626263, 0.17171717,\n",
       "       0.52525253, 0.11111111, 0.18181818, 0.94949495, 0.70707071,\n",
       "       0.29292929, 0.6969697 , 0.48484848, 0.46464646, 0.87878788,\n",
       "       0.92929293, 0.42424242, 0.33333333, 0.26262626, 0.80808081,\n",
       "       0.1010101 , 0.43434343, 0.01010101, 0.57575758, 0.95959596,\n",
       "       0.50505051, 0.        , 0.90909091, 0.81818182, 0.82828283,\n",
       "       0.66666667, 0.60606061, 0.24242424, 0.08080808, 0.86868687,\n",
       "       0.27272727, 0.90909091, 0.2020202 , 0.78787879, 0.85858586,\n",
       "       0.33333333, 0.23232323, 0.39393939, 0.68686869, 0.47474747,\n",
       "       0.02020202, 0.64646465, 0.73737374, 1.        , 0.74747475,\n",
       "       0.38383838, 0.83838384, 0.95959596, 0.51515152, 0.80808081,\n",
       "       0.49494949, 0.75757576, 0.74747475, 0.11111111, 0.39393939,\n",
       "       0.55555556, 0.54545455, 0.50505051, 0.3030303 , 0.6969697 ,\n",
       "       0.65656566, 0.01010101, 0.14141414, 0.42424242, 0.82828283,\n",
       "       0.91919192, 0.70707071, 0.86868687, 0.54545455, 0.17171717])"
      ]
     },
     "execution_count": 3,
     "metadata": {},
     "output_type": "execute_result"
    }
   ],
   "source": [
    "(x - np.min(x)) / (np.max(x) - np.min(x))"
   ]
  },
  {
   "cell_type": "code",
   "execution_count": 4,
   "metadata": {},
   "outputs": [],
   "source": [
    "X = np.random.randint(0, 100, (50, 2))"
   ]
  },
  {
   "cell_type": "code",
   "execution_count": 5,
   "metadata": {},
   "outputs": [
    {
     "data": {
      "text/plain": [
       "array([[85, 52],\n",
       "       [78,  7],\n",
       "       [54, 82],\n",
       "       [45, 41],\n",
       "       [97, 33],\n",
       "       [84,  3],\n",
       "       [39, 78],\n",
       "       [85,  0],\n",
       "       [73, 20],\n",
       "       [32, 38]])"
      ]
     },
     "execution_count": 5,
     "metadata": {},
     "output_type": "execute_result"
    }
   ],
   "source": [
    "X[:10, :]"
   ]
  },
  {
   "cell_type": "code",
   "execution_count": 6,
   "metadata": {},
   "outputs": [],
   "source": [
    "X = np.array(X, dtype=float)"
   ]
  },
  {
   "cell_type": "code",
   "execution_count": 7,
   "metadata": {},
   "outputs": [
    {
     "data": {
      "text/plain": [
       "array([[85., 52.],\n",
       "       [78.,  7.],\n",
       "       [54., 82.],\n",
       "       [45., 41.],\n",
       "       [97., 33.],\n",
       "       [84.,  3.],\n",
       "       [39., 78.],\n",
       "       [85.,  0.],\n",
       "       [73., 20.],\n",
       "       [32., 38.]])"
      ]
     },
     "execution_count": 7,
     "metadata": {},
     "output_type": "execute_result"
    }
   ],
   "source": [
    "X[:10, :]"
   ]
  },
  {
   "cell_type": "code",
   "execution_count": 8,
   "metadata": {},
   "outputs": [],
   "source": [
    "X[:,0] = (X[:,0] - np.min(X[:,0])) / (np.max(X[:,0]) - np.min(X[:,0])) "
   ]
  },
  {
   "cell_type": "code",
   "execution_count": 9,
   "metadata": {},
   "outputs": [],
   "source": [
    "X[:,1] = (X[:,1] - np.min(X[:,1])) / (np.max(X[:,1]) - np.min(X[:,1])) "
   ]
  },
  {
   "cell_type": "code",
   "execution_count": 10,
   "metadata": {},
   "outputs": [
    {
     "data": {
      "text/plain": [
       "array([[0.87628866, 0.53061224],\n",
       "       [0.80412371, 0.07142857],\n",
       "       [0.55670103, 0.83673469],\n",
       "       [0.46391753, 0.41836735],\n",
       "       [1.        , 0.33673469],\n",
       "       [0.86597938, 0.03061224],\n",
       "       [0.40206186, 0.79591837],\n",
       "       [0.87628866, 0.        ],\n",
       "       [0.75257732, 0.20408163],\n",
       "       [0.32989691, 0.3877551 ]])"
      ]
     },
     "execution_count": 10,
     "metadata": {},
     "output_type": "execute_result"
    }
   ],
   "source": [
    "X[:10,:]"
   ]
  },
  {
   "cell_type": "code",
   "execution_count": 11,
   "metadata": {},
   "outputs": [
    {
     "data": {
      "image/png": "[encoded data removed]",
      "text/plain": [
       "<Figure size 432x288 with 1 Axes>"
      ]
     },
     "metadata": {
      "needs_background": "light"
     },
     "output_type": "display_data"
    }
   ],
   "source": [
    "plt.scatter(X[:,0], X[:,1])\n",
    "plt.show()"
   ]
  },
  {
   "cell_type": "code",
   "execution_count": 12,
   "metadata": {},
   "outputs": [
    {
     "data": {
      "text/plain": [
       "0.5818556701030927"
      ]
     },
     "execution_count": 12,
     "metadata": {},
     "output_type": "execute_result"
    }
   ],
   "source": [
    "np.mean(X[:,0])"
   ]
  },
  {
   "cell_type": "code",
   "execution_count": 13,
   "metadata": {},
   "outputs": [
    {
     "data": {
      "text/plain": [
       "0.3070653471676394"
      ]
     },
     "execution_count": 13,
     "metadata": {},
     "output_type": "execute_result"
    }
   ],
   "source": [
    "np.std(X[:,0])"
   ]
  },
  {
   "cell_type": "code",
   "execution_count": 14,
   "metadata": {},
   "outputs": [
    {
     "data": {
      "text/plain": [
       "0.4891836734693878"
      ]
     },
     "execution_count": 14,
     "metadata": {},
     "output_type": "execute_result"
    }
   ],
   "source": [
    "np.mean(X[:,1])"
   ]
  },
  {
   "cell_type": "code",
   "execution_count": 15,
   "metadata": {},
   "outputs": [
    {
     "data": {
      "text/plain": [
       "0.2910107477573421"
      ]
     },
     "execution_count": 15,
     "metadata": {},
     "output_type": "execute_result"
    }
   ],
   "source": [
    "np.std(X[:,1])"
   ]
  },
  {
   "cell_type": "markdown",
   "metadata": {},
   "source": [
    "### 均值方差归一化 Standardization"
   ]
  },
  {
   "cell_type": "code",
   "execution_count": 16,
   "metadata": {},
   "outputs": [],
   "source": [
    "X2 = np.random.randint(0, 100, (50, 2))"
   ]
  },
  {
   "cell_type": "code",
   "execution_count": 17,
   "metadata": {},
   "outputs": [],
   "source": [
    "X2 = np.array(X2, dtype=float)"
   ]
  },
  {
   "cell_type": "code",
   "execution_count": 18,
   "metadata": {},
   "outputs": [],
   "source": [
    "X2[:,0] = (X2[:,0] - np.mean(X2[:,0])) / np.std(X2[:,0])"
   ]
  },
  {
   "cell_type": "code",
   "execution_count": 19,
   "metadata": {},
   "outputs": [],
   "source": [
    "X2[:,1] = (X2[:,1] - np.mean(X2[:,1])) / np.std(X2[:,1])"
   ]
  },
  {
   "cell_type": "code",
   "execution_count": 20,
   "metadata": {},
   "outputs": [
    {
     "data": {
      "image/png": "[encoded data removed]",
      "text/plain": [
       "<Figure size 432x288 with 1 Axes>"
      ]
     },
     "metadata": {
      "needs_background": "light"
     },
     "output_type": "display_data"
    }
   ],
   "source": [
    "plt.scatter(X2[:,0], X2[:,1])\n",
    "plt.show()"
   ]
  },
  {
   "cell_type": "code",
   "execution_count": 21,
   "metadata": {},
   "outputs": [
    {
     "data": {
      "text/plain": [
       "-6.661338147750939e-17"
      ]
     },
     "execution_count": 21,
     "metadata": {},
     "output_type": "execute_result"
    }
   ],
   "source": [
    "np.mean(X2[:,0])"
   ]
  },
  {
   "cell_type": "code",
   "execution_count": 22,
   "metadata": {},
   "outputs": [
    {
     "data": {
      "text/plain": [
       "0.9999999999999999"
      ]
     },
     "execution_count": 22,
     "metadata": {},
     "output_type": "execute_result"
    }
   ],
   "source": [
    "np.std(X2[:,0])"
   ]
  },
  {
   "cell_type": "code",
   "execution_count": 23,
   "metadata": {},
   "outputs": [
    {
     "data": {
      "text/plain": [
       "4.440892098500626e-18"
      ]
     },
     "execution_count": 23,
     "metadata": {},
     "output_type": "execute_result"
    }
   ],
   "source": [
    "np.mean(X2[:,1])"
   ]
  },
  {
   "cell_type": "code",
   "execution_count": 24,
   "metadata": {},
   "outputs": [
    {
     "data": {
      "text/plain": [
       "1.0"
      ]
     },
     "execution_count": 24,
     "metadata": {},
     "output_type": "execute_result"
    }
   ],
   "source": [
    "np.std(X2[:,1])"
   ]
  },
  {
   "cell_type": "code",
   "execution_count": null,
   "metadata": {},
   "outputs": [],
   "source": []
  }
 ],
 "metadata": {
  "kernelspec": {
   "display_name": "Python 3",
   "language": "python",
   "name": "python3"
  },
  "language_info": {
   "codemirror_mode": {
    "name": "ipython",
    "version": 3
   },
   "file_extension": ".py",
   "mimetype": "text/x-python",
   "name": "python",
   "nbconvert_exporter": "python",
   "pygments_lexer": "ipython3",
   "version": "3.7.4"
  }
 },
 "nbformat": 4,
 "nbformat_minor": 2
}
